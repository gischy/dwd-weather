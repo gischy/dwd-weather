{
 "cells": [
  {
   "cell_type": "code",
   "execution_count": 7,
   "metadata": {},
   "outputs": [],
   "source": [
    "import requests\n",
    "import datetime\n",
    "import json\n",
    "import pandas as pd\n",
    "import collections"
   ]
  },
  {
   "cell_type": "code",
   "execution_count": 6,
   "metadata": {},
   "outputs": [
    {
     "name": "stdout",
     "output_type": "stream",
     "text": [
      "Requirement already satisfied: requests in c:\\tmp\\powercloud-weather\\venv\\lib\\site-packages (2.26.0)\n",
      "Requirement already satisfied: certifi>=2017.4.17 in c:\\tmp\\powercloud-weather\\venv\\lib\\site-packages (from requests) (2021.10.8)\n",
      "Requirement already satisfied: charset-normalizer~=2.0.0 in c:\\tmp\\powercloud-weather\\venv\\lib\\site-packages (from requests) (2.0.7)\n",
      "Requirement already satisfied: urllib3<1.27,>=1.21.1 in c:\\tmp\\powercloud-weather\\venv\\lib\\site-packages (from requests) (1.26.7)\n",
      "Requirement already satisfied: idna<4,>=2.5 in c:\\tmp\\powercloud-weather\\venv\\lib\\site-packages (from requests) (3.3)\n"
     ]
    },
    {
     "name": "stderr",
     "output_type": "stream",
     "text": [
      "WARNING: You are using pip version 21.1.2; however, version 21.3.1 is available.\n",
      "You should consider upgrading via the 'C:\\tmp\\powercloud-weather\\venv\\Scripts\\python.exe -m pip install --upgrade pip' command.\n"
     ]
    },
    {
     "name": "stdout",
     "output_type": "stream",
     "text": [
      "Collecting pandas\n",
      "  Using cached pandas-1.3.4-cp37-cp37m-win32.whl (8.9 MB)\n",
      "Collecting pytz>=2017.3\n",
      "  Downloading pytz-2021.3-py2.py3-none-any.whl (503 kB)\n",
      "Collecting numpy>=1.17.3\n",
      "  Using cached numpy-1.21.4-cp37-cp37m-win32.whl (11.7 MB)\n",
      "Requirement already satisfied: python-dateutil>=2.7.3 in c:\\tmp\\powercloud-weather\\venv\\lib\\site-packages (from pandas) (2.8.2)\n",
      "Requirement already satisfied: six>=1.5 in c:\\tmp\\powercloud-weather\\venv\\lib\\site-packages (from python-dateutil>=2.7.3->pandas) (1.16.0)\n",
      "Installing collected packages: pytz, numpy, pandas\n",
      "Successfully installed numpy-1.21.4 pandas-1.3.4 pytz-2021.3\n"
     ]
    },
    {
     "name": "stderr",
     "output_type": "stream",
     "text": [
      "WARNING: You are using pip version 21.1.2; however, version 21.3.1 is available.\n",
      "You should consider upgrading via the 'C:\\tmp\\powercloud-weather\\venv\\Scripts\\python.exe -m pip install --upgrade pip' command.\n"
     ]
    }
   ],
   "source": [
    "!pip install requests\n",
    "!pip install pandas\n"
   ]
  },
  {
   "cell_type": "code",
   "execution_count": 34,
   "metadata": {},
   "outputs": [
    {
     "name": "stdout",
     "output_type": "stream",
     "text": [
      "[\n",
      "    {\n",
      "        \"date\": 1,\n",
      "        \"id\": \"2021-11-11\",\n",
      "        \"temperature\": \"5\"\n",
      "    }\n",
      "]\n"
     ]
    }
   ],
   "source": [
    "try:\n",
    "    connection = psycopg2.connect(user=\"powercloud\",\n",
    "                                  password=\"powercloud\",\n",
    "                                  host=\"localhost\",\n",
    "                                  port=\"5432\",\n",
    "                                  database=\"powercloud_db\")\n",
    "    cursor = connection.cursor()\n",
    "    postgreSQL_select_Query = \"select * from TEMPERATUREN;\"\n",
    "    cursor.execute(postgreSQL_select_Query)\n",
    "    results = cursor.fetchall()\n",
    "\n",
    "    # rowarray_list = []\n",
    "    # for row in results:\n",
    "    #     t = (row[0], row[1], row[2])\n",
    "    #     rowarray_list.append(t)\n",
    "    # j = json.dumps(rowarray_list, indent=4, sort_keys=True, default=str)\n",
    "    # print(j)\n",
    "\n",
    "    objects_list = []\n",
    "    for row in results:\n",
    "        d = collections.OrderedDict()\n",
    "        d[\"date\"] = row[0]\n",
    "        d[\"id\"] = row[1]\n",
    "        d[\"temperature\"] = row[2]\n",
    "        objects_list.append(d)\n",
    "    j = json.dumps(objects_list, indent=4, sort_keys=True, default=str)\n",
    "\n",
    "    print(j)\n",
    "    \n",
    "except (Exception, psycopg2.Error) as error:\n",
    "    print(\"Error while fetching data from PostgreSQL\", error)"
   ]
  },
  {
   "cell_type": "code",
   "execution_count": null,
   "metadata": {},
   "outputs": [],
   "source": []
  },
  {
   "cell_type": "code",
   "execution_count": null,
   "metadata": {},
   "outputs": [],
   "source": []
  },
  {
   "cell_type": "code",
   "execution_count": null,
   "metadata": {},
   "outputs": [],
   "source": []
  },
  {
   "cell_type": "code",
   "execution_count": null,
   "metadata": {},
   "outputs": [],
   "source": []
  },
  {
   "cell_type": "code",
   "execution_count": null,
   "metadata": {},
   "outputs": [],
   "source": []
  }
 ],
 "metadata": {
  "interpreter": {
   "hash": "0fdbcb9f1e48ac4a10c98e21502cb9bad79295c888da21cecde1f1d0cb9fb478"
  },
  "kernelspec": {
   "display_name": "Python 3.7.3 32-bit",
   "language": "python",
   "name": "python3"
  },
  "language_info": {
   "codemirror_mode": {
    "name": "ipython",
    "version": 3
   },
   "file_extension": ".py",
   "mimetype": "text/x-python",
   "name": "python",
   "nbconvert_exporter": "python",
   "pygments_lexer": "ipython3",
   "version": "3.7.3"
  },
  "orig_nbformat": 4
 },
 "nbformat": 4,
 "nbformat_minor": 2
}